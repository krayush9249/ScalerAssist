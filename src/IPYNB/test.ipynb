{
 "cells": [
  {
   "cell_type": "code",
   "execution_count": 84,
   "id": "d9c9eeff",
   "metadata": {},
   "outputs": [],
   "source": [
    "import os\n",
    "import numpy as np\n",
    "from dotenv import load_dotenv\n",
    "\n",
    "from FlagEmbedding import BGEM3FlagModel\n",
    "\n",
    "from langchain.text_splitter import RecursiveCharacterTextSplitter\n",
    "\n",
    "from langchain.vectorstores import Chroma"
   ]
  },
  {
   "cell_type": "code",
   "execution_count": 85,
   "id": "747a6369",
   "metadata": {},
   "outputs": [],
   "source": [
    "corpus_path = r\"C:\\Users\\piyus\\OneDrive\\Documents\\Github Repo\\Inquiry-Assistant\\Context\\clean_text.txt\"\n",
    "\n",
    "with open(corpus_path, \"r\", encoding=\"utf-8\") as f:\n",
    "    full_text = f.read()"
   ]
  },
  {
   "cell_type": "code",
   "execution_count": 86,
   "id": "12228da4",
   "metadata": {},
   "outputs": [],
   "source": [
    "env_path = r\"C:\\Users\\piyus\\OneDrive\\Documents\\Github Repo\\.env\"\n",
    "load_dotenv(dotenv_path=env_path)\n",
    "\n",
    "os.environ[\"GOOGLE_API_KEY\"] = os.getenv('GOOGLE_API_KEY')\n",
    "\n",
    "\n",
    "os.environ[\"HUGGINGFACE_HUB_TOKEN\"] = os.getenv('HUGGINGFACE_HUB_TOKEN')\n",
    "\n",
    "os.environ['LANGCHAIN_API_KEY'] = os.getenv('LANGCHAIN_API_KEY')\n",
    "os.environ['LANGCHAIN_TRACING_V2'] = 'true'\n",
    "os.environ['LANGCHAIN_PROJECT'] = 'inquiry-assistant'\n",
    "\n",
    "os.environ['GROQ_API_KEY'] = os.getenv('GROQ_API_KEY')\n",
    "groq_api_key = os.getenv('GROQ_API_KEY')  "
   ]
  },
  {
   "cell_type": "code",
   "execution_count": 87,
   "id": "68d64d36",
   "metadata": {},
   "outputs": [],
   "source": [
    "splitter = RecursiveCharacterTextSplitter(\n",
    "    chunk_size=500,\n",
    "    chunk_overlap=50,\n",
    "    separators=[\"\\n\\n\", \"\\n\", \".\", \" \", \"--- --- \"]\n",
    ")\n",
    "\n",
    "documents = splitter.create_documents([full_text])"
   ]
  },
  {
   "cell_type": "code",
   "execution_count": 88,
   "id": "3f9a4aa6",
   "metadata": {},
   "outputs": [
    {
     "name": "stderr",
     "output_type": "stream",
     "text": [
      "Fetching 13 files: 100%|██████████| 13/13 [00:00<00:00, 12881.16it/s]\n"
     ]
    }
   ],
   "source": [
    "class BGEEmbedding:\n",
    "    def __init__(self):\n",
    "        self.model = BGEM3FlagModel('BAAI/bge-small-en', use_fp16=False)\n",
    "\n",
    "    def embed_documents(self, texts):\n",
    "        texts = [\"passage: \" + t for t in texts]\n",
    "        output = self.model.encode(texts)\n",
    "        dense_vecs = output[\"dense_vecs\"]\n",
    "        dense_vecs = dense_vecs / np.linalg.norm(dense_vecs, axis=1, keepdims=True)\n",
    "        return dense_vecs.tolist() \n",
    "    \n",
    "\n",
    "    def embed_query(self, text):\n",
    "        output = self.model.encode([\"query: \" + text])\n",
    "        dense_vec = output[\"dense_vecs\"][0]\n",
    "        dense_vec = dense_vec / np.linalg.norm(dense_vec)\n",
    "        return dense_vec.tolist()\n",
    "\n",
    "\n",
    "embedding_function = BGEEmbedding()\n"
   ]
  },
  {
   "cell_type": "code",
   "execution_count": 89,
   "id": "14ad78ea",
   "metadata": {},
   "outputs": [
    {
     "name": "stderr",
     "output_type": "stream",
     "text": [
      "pre tokenize: 100%|██████████| 3/3 [00:00<00:00, 15.87it/s]\n",
      "You're using a BertTokenizerFast tokenizer. Please note that with a fast tokenizer, using the `__call__` method is faster than using a method to encode the text followed by a call to the `pad` method to get a padded encoding.\n",
      "Inference Embeddings: 100%|██████████| 3/3 [00:26<00:00,  8.75s/it]\n"
     ]
    },
    {
     "name": "stdout",
     "output_type": "stream",
     "text": [
      "Vectorstore created and persisted at: C:\\Users\\piyus\\OneDrive\\Documents\\Github Repo\\Inquiry-Assistant\\vectorstore\\chroma_db\n"
     ]
    }
   ],
   "source": [
    "# Step 3: Create and persist the Chroma vectorstore\n",
    "persist_directory = r\"C:\\Users\\piyus\\OneDrive\\Documents\\Github Repo\\Inquiry-Assistant\\vectorstore\\chroma_db\"\n",
    "\n",
    "vectorstore = Chroma.from_documents(\n",
    "    documents=documents,\n",
    "    embedding=embedding_function,\n",
    "    persist_directory=persist_directory\n",
    ")\n",
    "\n",
    "vectorstore.persist()\n",
    "print(\"Vectorstore created and persisted at:\", persist_directory)"
   ]
  },
  {
   "cell_type": "code",
   "execution_count": 90,
   "id": "00f53c31",
   "metadata": {},
   "outputs": [],
   "source": [
    "retriever = vectorstore.as_retriever(search_type=\"similarity\", search_kwargs={\"k\": 5})"
   ]
  },
  {
   "cell_type": "code",
   "execution_count": 91,
   "id": "7df5ee3f",
   "metadata": {},
   "outputs": [],
   "source": [
    "from langchain_groq import ChatGroq\n",
    "llm = ChatGroq(groq_api_key=groq_api_key, model=\"gemma2-9b-it\")"
   ]
  },
  {
   "cell_type": "code",
   "execution_count": 92,
   "id": "e8f2f777",
   "metadata": {},
   "outputs": [],
   "source": [
    "from langchain_core.prompts import ChatPromptTemplate, MessagesPlaceholder\n",
    "\n",
    "# Define the chat-style prompt template\n",
    "chat_prompt = ChatPromptTemplate.from_messages([\n",
    "    (\"system\", \n",
    "     \"You are an intelligent assistant for Scaler Academy, trained on internal documents, placement records, program curricula, and student feedback. \"\n",
    "     \"You should answer questions only based on the context provided. \"\n",
    "     \"If the answer is not found in the context, reply with: \"\n",
    "     \"“I'm sorry, I couldn't find that information in the available documents.” \"\n",
    "     \"Be precise, concise, and maintain a professional and helpful tone.\"\n",
    "    ),\n",
    "    (\"human\", \n",
    "     \"Context:\\n{context}\\n\\nQuestion:\\n{question}\")\n",
    "])"
   ]
  },
  {
   "cell_type": "code",
   "execution_count": 93,
   "id": "623eb604",
   "metadata": {},
   "outputs": [],
   "source": [
    "from langchain_core.output_parsers import StrOutputParser\n",
    "\n",
    "output_parser = StrOutputParser()"
   ]
  },
  {
   "cell_type": "code",
   "execution_count": 94,
   "id": "ac7c0d18",
   "metadata": {},
   "outputs": [],
   "source": [
    "from langchain_core.runnables import RunnableLambda, RunnableMap\n",
    "\n",
    "retriever_runnable = RunnableLambda(lambda x: retriever.invoke(x[\"question\"]))\n",
    "\n",
    "def format_inputs(inputs):\n",
    "    return {\n",
    "        \"context\": \"\\n\\n\".join([doc.page_content for doc in inputs[\"documents\"]]),\n",
    "        \"question\": inputs[\"question\"]\n",
    "    }"
   ]
  },
  {
   "cell_type": "code",
   "execution_count": 95,
   "id": "455d249b",
   "metadata": {},
   "outputs": [],
   "source": [
    "rag_chain = (\n",
    "    RunnableMap({\n",
    "        \"documents\": retriever_runnable,\n",
    "        \"question\": lambda x: x[\"question\"]\n",
    "    })\n",
    "    | format_inputs | chat_prompt | llm | output_parser\n",
    ")"
   ]
  },
  {
   "cell_type": "code",
   "execution_count": 96,
   "id": "b04f110c",
   "metadata": {},
   "outputs": [
    {
     "name": "stdout",
     "output_type": "stream",
     "text": [
      "\n",
      "Question: what is scaler\n",
      "\n",
      "Answer: Scaler Academy is an institution that offers data science courses. \n",
      "\n"
     ]
    }
   ],
   "source": [
    "query = input(\"Enter your question: \")\n",
    "print(\"\\nQuestion:\", query)\n",
    "\n",
    "response = rag_chain.invoke({\"question\": query})\n",
    "print(\"\\nAnswer:\", response)"
   ]
  },
  {
   "cell_type": "code",
   "execution_count": null,
   "id": "d354724d",
   "metadata": {},
   "outputs": [],
   "source": []
  }
 ],
 "metadata": {
  "kernelspec": {
   "display_name": "venv",
   "language": "python",
   "name": "python3"
  },
  "language_info": {
   "codemirror_mode": {
    "name": "ipython",
    "version": 3
   },
   "file_extension": ".py",
   "mimetype": "text/x-python",
   "name": "python",
   "nbconvert_exporter": "python",
   "pygments_lexer": "ipython3",
   "version": "3.11.13"
  }
 },
 "nbformat": 4,
 "nbformat_minor": 5
}
