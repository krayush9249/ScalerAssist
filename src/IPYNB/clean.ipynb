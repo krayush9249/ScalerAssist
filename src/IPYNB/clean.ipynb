{
 "cells": [
  {
   "cell_type": "code",
   "execution_count": 1,
   "id": "5765d382",
   "metadata": {},
   "outputs": [],
   "source": [
    "corpus_path = \"/Users/kumarpersonal/Downloads/Inquiry-Assistant/Context/corpus.txt\"\n",
    "\n",
    "with open(corpus_path, \"r\", encoding=\"utf-8\") as f:\n",
    "    corpus = f.read()"
   ]
  },
  {
   "cell_type": "code",
   "execution_count": 2,
   "id": "ce689fca",
   "metadata": {},
   "outputs": [],
   "source": [
    "import re\n",
    "import unicodedata\n",
    "\n",
    "def clean_text(text: str) -> str:\n",
    "    # 1. Normalize unicode characters \n",
    "    text = unicodedata.normalize(\"NFKC\", text)\n",
    "\n",
    "    # 2. Remove unwanted boilerplate patterns \n",
    "    text = re.sub(r\"Page\\s*\\d+\\s*(of)?\\s*\\d*\", \"\", text, flags=re.IGNORECASE)\n",
    "    text = re.sub(r\"©\\s*\\d{4}\\s*.*\", \"\", text)  # Copyright footers\n",
    "    text = re.sub(r\"(www\\.|https?:\\/\\/)\\S+\", \"\", text)  # Remove URLs\n",
    "\n",
    "    # 3. Remove HTML/XML tags if present\n",
    "    text = re.sub(r\"<[^>]+>\", \"\", text)\n",
    "\n",
    "    # 4. Remove excess whitespace \n",
    "    text = re.sub(r\"\\s+\", \" \", text)\n",
    "    text = re.sub(r\"\\n\\s*\\n\", \"\\n\\n\", text)  # preserve paragraph breaks\n",
    "\n",
    "    # 5. Remove weird non-ASCII symbols\n",
    "    text = re.sub(r\"[^\\x00-\\x7F]+\", \"\", text)\n",
    "\n",
    "    # 6. Strip leading/trailing spaces\n",
    "    return text.strip()\n",
    "\n",
    "cleaned_text = clean_text(corpus)\n"
   ]
  },
  {
   "cell_type": "code",
   "execution_count": 3,
   "id": "2c431829",
   "metadata": {},
   "outputs": [],
   "source": [
    "output_path = \"/Users/kumarpersonal/Downloads/Inquiry-Assistant/Context/cleaned_text.txt\"\n",
    "with open(output_path, \"w\", encoding=\"utf-8\") as f:\n",
    "    f.write(cleaned_text)"
   ]
  },
  {
   "cell_type": "code",
   "execution_count": null,
   "id": "8deb9bd0",
   "metadata": {},
   "outputs": [],
   "source": []
  }
 ],
 "metadata": {
  "kernelspec": {
   "display_name": "venv",
   "language": "python",
   "name": "python3"
  },
  "language_info": {
   "codemirror_mode": {
    "name": "ipython",
    "version": 3
   },
   "file_extension": ".py",
   "mimetype": "text/x-python",
   "name": "python",
   "nbconvert_exporter": "python",
   "pygments_lexer": "ipython3",
   "version": "3.9.6"
  }
 },
 "nbformat": 4,
 "nbformat_minor": 5
}
