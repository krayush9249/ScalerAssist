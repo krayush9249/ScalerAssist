{
 "cells": [
  {
   "cell_type": "code",
   "execution_count": 1,
   "id": "c649f95d",
   "metadata": {},
   "outputs": [],
   "source": [
    "import os\n",
    "import numpy as np\n",
    "from dotenv import load_dotenv\n",
    "from langchain_core.documents import Document\n",
    "from langchain.text_splitter import RecursiveCharacterTextSplitter\n",
    "from pinecone import Pinecone, ServerlessSpec\n",
    "from langchain_pinecone import PineconeVectorStore\n",
    "from langchain_core.embeddings import Embeddings\n",
    "from FlagEmbedding import BGEM3FlagModel\n",
    "from langchain_huggingface import HuggingFaceEmbeddings\n",
    "from langchain.retrievers import ContextualCompressionRetriever\n",
    "from langchain.retrievers.document_compressors import LLMChainExtractor\n",
    "from langchain_core.runnables import RunnableLambda\n",
    "from langchain_groq import ChatGroq\n",
    "from langchain_core.prompts import ChatPromptTemplate\n",
    "from langchain_core.output_parsers import StrOutputParser\n",
    "from langchain_core.runnables import RunnableLambda, RunnableMap"
   ]
  },
  {
   "cell_type": "code",
   "execution_count": 2,
   "id": "ef35b20e",
   "metadata": {},
   "outputs": [
    {
     "name": "stdout",
     "output_type": "stream",
     "text": [
      "Using Pinecone index: dense-retrieval-index, <class 'str'>\n"
     ]
    }
   ],
   "source": [
    "env_path = \"/Users/kumarpersonal/Downloads/Inquiry-Assistant/venv/.env\"\n",
    "load_dotenv(dotenv_path=env_path)\n",
    "\n",
    "os.environ['LANGCHAIN_API_KEY'] = os.getenv('LANGCHAIN_API_KEY')\n",
    "os.environ['LANGCHAIN_TRACING_V2'] = 'true'\n",
    "os.environ['LANGCHAIN_PROJECT'] = 'inquiry-assistant'\n",
    "os.environ[\"HF_TOKEN\"]=os.getenv(\"HF_TOKEN\")\n",
    "\n",
    "pinecone_api_key = os.getenv(\"PINECONE_API_KEY\")\n",
    "pinecone_index_name = os.getenv(\"PINECONE_INDEX_NAME\")\n",
    "print(f\"Using Pinecone index: {pinecone_index_name}, {type(pinecone_index_name)}\")\n",
    "\n",
    "groq_api_key = os.getenv(\"GROQ_API_KEY\")"
   ]
  },
  {
   "cell_type": "code",
   "execution_count": 3,
   "id": "6070fccb",
   "metadata": {},
   "outputs": [],
   "source": [
    "corpus_path = \"/Users/kumarpersonal/Downloads/Inquiry-Assistant/Context/corpus.txt\"\n",
    "with open(corpus_path, \"r\", encoding=\"utf-8\") as f:\n",
    "    full_text = f.read()\n",
    "\n",
    "splitter = RecursiveCharacterTextSplitter(\n",
    "    chunk_size=500,\n",
    "    chunk_overlap=50,\n",
    "    separators=[\"\\n\\n\", \"\\n\", \".\", \" \"]\n",
    ")\n",
    "documents = splitter.create_documents([full_text])\n",
    "\n",
    "for doc in documents:\n",
    "    doc.metadata[\"chunk_text\"] = doc.page_content"
   ]
  },
  {
   "cell_type": "code",
   "execution_count": 4,
   "id": "3992d7f9",
   "metadata": {},
   "outputs": [],
   "source": [
    "hf_encoder = HuggingFaceEmbeddings(model_name=\"sentence-transformers/all-MiniLM-L6-v2\")"
   ]
  },
  {
   "cell_type": "code",
   "execution_count": 5,
   "id": "5c7df837",
   "metadata": {},
   "outputs": [
    {
     "data": {
      "application/vnd.jupyter.widget-view+json": {
       "model_id": "5ed3c788ee074b11a02112559525ff8d",
       "version_major": 2,
       "version_minor": 0
      },
      "text/plain": [
       "Fetching 13 files:   0%|          | 0/13 [00:00<?, ?it/s]"
      ]
     },
     "metadata": {},
     "output_type": "display_data"
    }
   ],
   "source": [
    "class BGEEmbedding(Embeddings):\n",
    "    def __init__(self):\n",
    "        self.model = BGEM3FlagModel('BAAI/bge-small-en', use_fp16=False)\n",
    "\n",
    "    def embed_documents(self, texts):\n",
    "        texts = [\"passage: \" + t for t in texts]\n",
    "        output = self.model.encode(texts)\n",
    "        dense_vecs = output[\"dense_vecs\"]\n",
    "        dense_vecs = dense_vecs / np.linalg.norm(dense_vecs, axis=1, keepdims=True)\n",
    "        return dense_vecs.tolist() \n",
    "\n",
    "    def embed_query(self, text):\n",
    "        output = self.model.encode([\"query: \" + text])\n",
    "        dense_vec = output[\"dense_vecs\"][0]\n",
    "        dense_vec = dense_vec / np.linalg.norm(dense_vec)\n",
    "        return dense_vec.tolist()\n",
    "    \n",
    "embed_func = BGEEmbedding()"
   ]
  },
  {
   "cell_type": "code",
   "execution_count": 6,
   "id": "6b02bb7c",
   "metadata": {},
   "outputs": [],
   "source": [
    "pc = Pinecone(api_key=pinecone_api_key)\n",
    "index = pc.Index(pinecone_index_name)"
   ]
  },
  {
   "cell_type": "code",
   "execution_count": 7,
   "id": "5abd1f39",
   "metadata": {},
   "outputs": [],
   "source": [
    "# vectors_to_upsert = []\n",
    "# for i, (doc, dense, sparse) in enumerate(zip(documents, dense_vectors, sparse_vectors)):\n",
    "#     vector = {\n",
    "#         \"id\": f\"doc-{i}\",\n",
    "#         \"values\": dense,\n",
    "#         \"sparse_values\": sparse,\n",
    "#         \"metadata\": doc.metadata\n",
    "#     }\n",
    "#     vectors_to_upsert.append(vector)\n",
    "\n",
    "# index.upsert(vectors=vectors_to_upsert, namespace=\"default\")\n",
    "\n",
    "# print(f\"Upserted {len(vectors_to_upsert)} hybrid vectors to Pinecone index.\")"
   ]
  },
  {
   "cell_type": "code",
   "execution_count": 8,
   "id": "43b36cd2",
   "metadata": {},
   "outputs": [],
   "source": [
    "vectorstore = PineconeVectorStore(\n",
    "    index=index,\n",
    "    embedding=hf_encoder\n",
    ")\n",
    "\n",
    "retriever = vectorstore.as_retriever(search_type=\"similarity\", search_kwargs={\"k\": 5})\n",
    "# retriever = vectorstore.as_retriever(search_type=\"mmr\", search_kwargs={\"k\": 5, 'fetch_k': 50, 'lambda_mult': 0.5})"
   ]
  },
  {
   "cell_type": "code",
   "execution_count": 9,
   "id": "e0ce8170",
   "metadata": {},
   "outputs": [],
   "source": [
    "llm = ChatGroq(groq_api_key=groq_api_key, model=\"gemma2-9b-it\")\n",
    "\n",
    "compressor = LLMChainExtractor.from_llm(llm)\n",
    "\n",
    "compression_retriever = ContextualCompressionRetriever(\n",
    "    base_retriever=retriever,\n",
    "    base_compressor=compressor\n",
    ")"
   ]
  },
  {
   "cell_type": "code",
   "execution_count": 10,
   "id": "a3460f80",
   "metadata": {},
   "outputs": [],
   "source": [
    "chat_prompt = ChatPromptTemplate.from_messages([\n",
    "    (\"system\", \n",
    "     \"You are an intelligent assistant for Scaler Academy, trained on internal documents, placement records, program curricula, and student feedback. \"\n",
    "     \"You should answer questions only based on the context provided. \"\n",
    "     \"If the answer is not found in the context, reply with: \"\n",
    "     \"“I'm sorry, I couldn't find that information in the available documents.” \"\n",
    "     \"Be precise, concise, and maintain a professional and helpful tone.\"\n",
    "    ),\n",
    "    (\"human\", \n",
    "     \"Context:\\n{context}\\n\\nQuestion:\\n{question}\")\n",
    "])\n",
    "\n",
    "output_parser = StrOutputParser()"
   ]
  },
  {
   "cell_type": "code",
   "execution_count": 15,
   "id": "129352b7",
   "metadata": {},
   "outputs": [],
   "source": [
    "retriever_runnable = RunnableLambda(lambda x: retriever.invoke(x[\"question\"]))"
   ]
  },
  {
   "cell_type": "code",
   "execution_count": 17,
   "id": "b3f4aa35",
   "metadata": {},
   "outputs": [],
   "source": [
    "def format_inputs(inputs):\n",
    "    return {\n",
    "        \"context\": \"\\n\\n\".join([doc.page_content for doc in inputs[\"documents\"]]),\n",
    "        \"question\": inputs[\"question\"]\n",
    "    }"
   ]
  },
  {
   "cell_type": "code",
   "execution_count": 18,
   "id": "62ee4667",
   "metadata": {},
   "outputs": [],
   "source": [
    "rag_chain = (\n",
    "    RunnableMap({\n",
    "        \"documents\": retriever_runnable,\n",
    "        \"question\": lambda x: x[\"question\"]\n",
    "    })\n",
    "    | format_inputs | chat_prompt | llm | output_parser\n",
    ")"
   ]
  },
  {
   "cell_type": "code",
   "execution_count": 19,
   "id": "a6aa1960",
   "metadata": {},
   "outputs": [
    {
     "name": "stdout",
     "output_type": "stream",
     "text": [
      "\n",
      "Question: Scaler's placement records\n",
      "\n",
      "Answer: I'm sorry, I couldn't find specific placement records in the available documents.  \n",
      "\n"
     ]
    }
   ],
   "source": [
    "query_text = input(\"Enter your question: \")\n",
    "print(\"\\nQuestion:\", query_text)\n",
    "\n",
    "response = rag_chain.invoke({\"question\": query_text})\n",
    "print(\"\\nAnswer:\", response)"
   ]
  },
  {
   "cell_type": "code",
   "execution_count": null,
   "id": "12395a81",
   "metadata": {},
   "outputs": [],
   "source": []
  }
 ],
 "metadata": {
  "kernelspec": {
   "display_name": "venv",
   "language": "python",
   "name": "python3"
  },
  "language_info": {
   "codemirror_mode": {
    "name": "ipython",
    "version": 3
   },
   "file_extension": ".py",
   "mimetype": "text/x-python",
   "name": "python",
   "nbconvert_exporter": "python",
   "pygments_lexer": "ipython3",
   "version": "3.9.6"
  }
 },
 "nbformat": 4,
 "nbformat_minor": 5
}
