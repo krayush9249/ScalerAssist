{
 "cells": [
  {
   "cell_type": "code",
   "execution_count": 9,
   "id": "c649f95d",
   "metadata": {},
   "outputs": [],
   "source": [
    "import os\n",
    "from dotenv import load_dotenv\n",
    "from langchain_core.documents import Document\n",
    "from langchain.text_splitter import RecursiveCharacterTextSplitter\n",
    "from pinecone import Pinecone, ServerlessSpec\n",
    "from langchain_pinecone import PineconeVectorStore\n",
    "from pinecone_text.sparse import BM25Encoder\n",
    "# from langchain_community.embeddings import HuggingFaceEmbeddings\n",
    "from langchain_huggingface import HuggingFaceEmbeddings\n",
    "from langchain_community.retrievers.pinecone_hybrid_search import PineconeHybridSearchRetriever\n",
    "from langchain.vectorstores.utils import maximal_marginal_relevance\n",
    "from langchain.retrievers import ContextualCompressionRetriever\n",
    "from langchain.retrievers.document_compressors import LLMChainExtractor\n",
    "from langchain_core.runnables import RunnableLambda\n",
    "from langchain_groq import ChatGroq\n",
    "from langchain_core.prompts import ChatPromptTemplate\n",
    "from langchain_core.output_parsers import StrOutputParser\n",
    "from langchain_core.runnables import RunnableLambda, RunnableMap"
   ]
  },
  {
   "cell_type": "code",
   "execution_count": 2,
   "id": "ef35b20e",
   "metadata": {},
   "outputs": [],
   "source": [
    "env_path = \"/Users/kumarpersonal/Downloads/Inquiry-Assistant/venv/.env\"\n",
    "load_dotenv(dotenv_path=env_path)\n",
    "\n",
    "os.environ['LANGCHAIN_API_KEY'] = os.getenv('LANGCHAIN_API_KEY')\n",
    "os.environ['LANGCHAIN_TRACING_V2'] = 'true'\n",
    "os.environ['LANGCHAIN_PROJECT'] = 'inquiry-assistant'\n",
    "os.environ[\"HF_TOKEN\"]=os.getenv(\"HF_TOKEN\")\n",
    "\n",
    "pinecone_api_key = os.getenv(\"PINECONE_API_KEY\")\n",
    "pinecone_index_name = os.getenv(\"PINECONE_INDEX_NAME\")\n",
    "\n",
    "groq_api_key = os.getenv(\"GROQ_API_KEY\")"
   ]
  },
  {
   "cell_type": "code",
   "execution_count": 3,
   "id": "6070fccb",
   "metadata": {},
   "outputs": [],
   "source": [
    "corpus_path = \"/Users/kumarpersonal/Downloads/Inquiry-Assistant/Context/corpus.txt\"\n",
    "with open(corpus_path, \"r\", encoding=\"utf-8\") as f:\n",
    "    full_text = f.read()\n",
    "\n",
    "splitter = RecursiveCharacterTextSplitter(\n",
    "    chunk_size=500,\n",
    "    chunk_overlap=50,\n",
    "    separators=[\"\\n\\n\", \"\\n\", \".\", \" \"]\n",
    ")\n",
    "documents = splitter.create_documents([full_text])\n",
    "\n",
    "for doc in documents:\n",
    "    doc.metadata[\"chunk_text\"] = doc.page_content"
   ]
  },
  {
   "cell_type": "code",
   "execution_count": 4,
   "id": "5c7df837",
   "metadata": {},
   "outputs": [
    {
     "data": {
      "application/vnd.jupyter.widget-view+json": {
       "model_id": "e8ca5270457047d7bbc254b3fafc4cca",
       "version_major": 2,
       "version_minor": 0
      },
      "text/plain": [
       "  0%|          | 0/961 [00:00<?, ?it/s]"
      ]
     },
     "metadata": {},
     "output_type": "display_data"
    }
   ],
   "source": [
    "hf_encoder = HuggingFaceEmbeddings(model_name=\"sentence-transformers/all-MiniLM-L6-v2\")\n",
    "bm25_encoder = BM25Encoder().fit([doc.page_content for doc in documents])"
   ]
  },
  {
   "cell_type": "code",
   "execution_count": null,
   "id": "22de1e5e",
   "metadata": {},
   "outputs": [],
   "source": [
    "# texts = [doc.page_content for doc in documents]\n",
    "\n",
    "# dense_vectors = dense_encoder.embed_documents(texts)\n",
    "# sparse_vectors = sparse_encoder.encode_documents(texts)"
   ]
  },
  {
   "cell_type": "code",
   "execution_count": 5,
   "id": "6b02bb7c",
   "metadata": {},
   "outputs": [],
   "source": [
    "pc = Pinecone(api_key=pinecone_api_key)\n",
    "index = pc.Index(pinecone_index_name)"
   ]
  },
  {
   "cell_type": "code",
   "execution_count": null,
   "id": "5abd1f39",
   "metadata": {},
   "outputs": [],
   "source": [
    "# vectors_to_upsert = []\n",
    "# for i, (doc, dense, sparse) in enumerate(zip(documents, dense_vectors, sparse_vectors)):\n",
    "#     vector = {\n",
    "#         \"id\": f\"doc-{i}\",\n",
    "#         \"values\": dense,\n",
    "#         \"sparse_values\": sparse,\n",
    "#         \"metadata\": doc.metadata\n",
    "#     }\n",
    "#     vectors_to_upsert.append(vector)\n",
    "\n",
    "# index.upsert(vectors=vectors_to_upsert, namespace=\"default\")\n",
    "\n",
    "# print(f\"Upserted {len(vectors_to_upsert)} hybrid vectors to Pinecone index.\")"
   ]
  },
  {
   "cell_type": "code",
   "execution_count": 43,
   "id": "43b36cd2",
   "metadata": {},
   "outputs": [],
   "source": [
    "vectorstore = PineconeHybridSearchRetriever(\n",
    "    embeddings=hf_encoder,\n",
    "    sparse_encoder=bm25_encoder,\n",
    "    index=index,\n",
    "    namespace=\"default\",\n",
    "    text_key=\"chunk_text\"  \n",
    ")\n",
    "\n",
    "def hybrid_search(query_text):\n",
    "    # retriever = vectorstore.as_retriever(\n",
    "    #     search_type=\"hybrid\",\n",
    "    #     search_kwargs={\"alpha\": 0.8, \"k\": fetch_k}\n",
    "    # )\n",
    "    # return retriever.get_relevant_documents(query_text)\n",
    "    return vectorstore.invoke(query_text)\n",
    "\n",
    "def hybrid_mmr_search(query, fetch_k=50, k=5, lambda_mult=1.0):\n",
    "    candidates = hybrid_search(query)\n",
    "    if len(candidates) <= k:\n",
    "        return candidates\n",
    "    \n",
    "    candidate_texts = [doc.page_content for doc in candidates]\n",
    "    candidate_embeddings = hf_encoder.embed_documents(candidate_texts)\n",
    "    query_embedding = hf_encoder.embed_query(query)\n",
    "    \n",
    "    selected_indices = maximal_marginal_relevance(\n",
    "        query_embedding=query_embedding,\n",
    "        embeddings=candidate_embeddings,\n",
    "        k=k,\n",
    "        fetch_k=fetch_k,\n",
    "        lambda_mult=lambda_mult,\n",
    "    )\n",
    "    \n",
    "    return [candidates[i] for i in selected_indices]\n",
    "\n",
    "# retriever = vectorstore.as_retriever(search_type=\"mmr\", search_kwargs={\"k\": 5, 'fetch_k': 50, 'lambda_mult': 0.5})"
   ]
  },
  {
   "cell_type": "code",
   "execution_count": 44,
   "id": "e0ce8170",
   "metadata": {},
   "outputs": [],
   "source": [
    "llm = ChatGroq(groq_api_key=groq_api_key, model=\"gemma2-9b-it\")\n",
    "\n",
    "compressor = LLMChainExtractor.from_llm(llm)\n",
    "\n",
    "class HybridMMRRetriever:\n",
    "    def __init__(self, query_func):\n",
    "        self.query_func = query_func\n",
    "\n",
    "    def invoke(self, query_text):\n",
    "        return self.query_func(query_text)\n",
    "\n",
    "base_retriever = RunnableLambda(lambda query_text: hybrid_mmr_search(query_text))\n",
    "\n",
    "compression_retriever = ContextualCompressionRetriever(\n",
    "    base_retriever=base_retriever,\n",
    "    base_compressor=compressor\n",
    ")\n",
    "\n",
    "# compression_retriever = ContextualCompressionRetriever(\n",
    "#     base_retriever=retriever,\n",
    "#     base_compressor=compressor\n",
    "# )"
   ]
  },
  {
   "cell_type": "code",
   "execution_count": 45,
   "id": "a04e9e8e",
   "metadata": {},
   "outputs": [],
   "source": [
    "# def hybrid_search(query_text, top_k=5, namespace=\"default\", alpha=0.8):\n",
    "#     dense_query = dense_encoder.embed_query(query_text)\n",
    "#     sparse_query = sparse_encoder.encode_queries([query_text])[0]\n",
    "    \n",
    "#     results = index.query(\n",
    "#         dense_vector=dense_query,\n",
    "#         sparse_vector=sparse_query,\n",
    "#         top_k=top_k,\n",
    "#         include_metadata=True,\n",
    "#         namespace=namespace,\n",
    "#         alpha=alpha\n",
    "#     )\n",
    "    \n",
    "#     return [\n",
    "#         Document(page_content=match['metadata'].get('chunk_text', ''),\n",
    "#                  metadata=match['metadata'])\n",
    "#         for match in results['matches']\n",
    "#     ]"
   ]
  },
  {
   "cell_type": "code",
   "execution_count": 46,
   "id": "a3460f80",
   "metadata": {},
   "outputs": [],
   "source": [
    "chat_prompt = ChatPromptTemplate.from_messages([\n",
    "    (\"system\", \n",
    "     \"You are an intelligent assistant for Scaler Academy, trained on internal documents, placement records, program curricula, and student feedback. \"\n",
    "     \"You should answer questions only based on the context provided. \"\n",
    "     \"If the answer is not found in the context, reply with: \"\n",
    "     \"“I'm sorry, I couldn't find that information in the available documents.” \"\n",
    "     \"Be precise, concise, and maintain a professional and helpful tone.\"\n",
    "    ),\n",
    "    (\"human\", \n",
    "     \"Context:\\n{context}\\n\\nQuestion:\\n{question}\")\n",
    "])\n",
    "\n",
    "output_parser = StrOutputParser()"
   ]
  },
  {
   "cell_type": "code",
   "execution_count": 47,
   "id": "129352b7",
   "metadata": {},
   "outputs": [],
   "source": [
    "retriever_runnable = RunnableLambda(lambda x: compression_retriever.invoke(x[\"question\"]))\n",
    "# retriever_runnable = RunnableLambda(lambda x: hybrid_search(x[\"question\"]))"
   ]
  },
  {
   "cell_type": "code",
   "execution_count": 48,
   "id": "b3f4aa35",
   "metadata": {},
   "outputs": [],
   "source": [
    "def format_inputs(inputs):\n",
    "    return {\n",
    "        \"context\": \"\\n\\n\".join([doc.page_content for doc in inputs[\"documents\"]]),\n",
    "        \"question\": inputs[\"question\"]\n",
    "    }"
   ]
  },
  {
   "cell_type": "code",
   "execution_count": 49,
   "id": "62ee4667",
   "metadata": {},
   "outputs": [],
   "source": [
    "rag_chain = (\n",
    "    RunnableMap({\n",
    "        \"documents\": retriever_runnable,\n",
    "        \"question\": lambda x: x[\"question\"]\n",
    "    })\n",
    "    | format_inputs | chat_prompt | llm | output_parser\n",
    ")"
   ]
  },
  {
   "cell_type": "code",
   "execution_count": 50,
   "id": "a6aa1960",
   "metadata": {},
   "outputs": [
    {
     "name": "stdout",
     "output_type": "stream",
     "text": [
      "\n",
      "Question: fee structure\n",
      "\n",
      "Answer: I'm sorry, I couldn't find that information in the available documents. \n",
      "\n"
     ]
    }
   ],
   "source": [
    "query_text = input(\"Enter your question: \")\n",
    "print(\"\\nQuestion:\", query_text)\n",
    "\n",
    "response = rag_chain.invoke({\"question\": query_text})\n",
    "print(\"\\nAnswer:\", response)"
   ]
  },
  {
   "cell_type": "code",
   "execution_count": null,
   "id": "12395a81",
   "metadata": {},
   "outputs": [],
   "source": []
  }
 ],
 "metadata": {
  "kernelspec": {
   "display_name": "venv",
   "language": "python",
   "name": "python3"
  },
  "language_info": {
   "codemirror_mode": {
    "name": "ipython",
    "version": 3
   },
   "file_extension": ".py",
   "mimetype": "text/x-python",
   "name": "python",
   "nbconvert_exporter": "python",
   "pygments_lexer": "ipython3",
   "version": "3.9.6"
  }
 },
 "nbformat": 4,
 "nbformat_minor": 5
}
