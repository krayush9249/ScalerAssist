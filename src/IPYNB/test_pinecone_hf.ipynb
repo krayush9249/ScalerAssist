{
 "cells": [
  {
   "cell_type": "code",
   "execution_count": 16,
   "id": "c649f95d",
   "metadata": {},
   "outputs": [
    {
     "ename": "ImportError",
     "evalue": "cannot import name 'SemanticChunker' from 'langchain.text_splitter' (/Users/kumarpersonal/Downloads/Inquiry-Assistant/venv/lib/python3.9/site-packages/langchain/text_splitter.py)",
     "output_type": "error",
     "traceback": [
      "\u001b[0;31m---------------------------------------------------------------------------\u001b[0m",
      "\u001b[0;31mImportError\u001b[0m                               Traceback (most recent call last)",
      "Cell \u001b[0;32mIn[16], line 4\u001b[0m\n\u001b[1;32m      2\u001b[0m \u001b[38;5;28;01mfrom\u001b[39;00m\u001b[38;5;250m \u001b[39m\u001b[38;5;21;01mdotenv\u001b[39;00m\u001b[38;5;250m \u001b[39m\u001b[38;5;28;01mimport\u001b[39;00m load_dotenv\n\u001b[1;32m      3\u001b[0m \u001b[38;5;28;01mfrom\u001b[39;00m\u001b[38;5;250m \u001b[39m\u001b[38;5;21;01mlangchain\u001b[39;00m\u001b[38;5;21;01m.\u001b[39;00m\u001b[38;5;21;01mtext_splitter\u001b[39;00m\u001b[38;5;250m \u001b[39m\u001b[38;5;28;01mimport\u001b[39;00m RecursiveCharacterTextSplitter\n\u001b[0;32m----> 4\u001b[0m \u001b[38;5;28;01mfrom\u001b[39;00m\u001b[38;5;250m \u001b[39m\u001b[38;5;21;01mlangchain\u001b[39;00m\u001b[38;5;21;01m.\u001b[39;00m\u001b[38;5;21;01mtext_splitter\u001b[39;00m\u001b[38;5;250m \u001b[39m\u001b[38;5;28;01mimport\u001b[39;00m SemanticChunker\n\u001b[1;32m      5\u001b[0m \u001b[38;5;28;01mfrom\u001b[39;00m\u001b[38;5;250m \u001b[39m\u001b[38;5;21;01mpinecone\u001b[39;00m\u001b[38;5;250m \u001b[39m\u001b[38;5;28;01mimport\u001b[39;00m Pinecone\n\u001b[1;32m      6\u001b[0m \u001b[38;5;28;01mfrom\u001b[39;00m\u001b[38;5;250m \u001b[39m\u001b[38;5;21;01mlangchain_pinecone\u001b[39;00m\u001b[38;5;250m \u001b[39m\u001b[38;5;28;01mimport\u001b[39;00m PineconeVectorStore\n",
      "\u001b[0;31mImportError\u001b[0m: cannot import name 'SemanticChunker' from 'langchain.text_splitter' (/Users/kumarpersonal/Downloads/Inquiry-Assistant/venv/lib/python3.9/site-packages/langchain/text_splitter.py)"
     ]
    }
   ],
   "source": [
    "import os\n",
    "from dotenv import load_dotenv\n",
    "from langchain.text_splitter import RecursiveCharacterTextSplitter\n",
    "from langchain.text_splitter import SemanticChunker\n",
    "from pinecone import Pinecone\n",
    "from langchain_pinecone import PineconeVectorStore\n",
    "from langchain_huggingface import HuggingFaceEmbeddings\n",
    "from FlagEmbedding import BGEM3FlagModel\n",
    "from langchain_groq import ChatGroq\n",
    "from langchain_core.prompts import ChatPromptTemplate\n",
    "from langchain_core.output_parsers import StrOutputParser\n",
    "from langchain_core.runnables import RunnableLambda, RunnableMap"
   ]
  },
  {
   "cell_type": "code",
   "execution_count": 2,
   "id": "ef35b20e",
   "metadata": {},
   "outputs": [],
   "source": [
    "env_path = \"/Users/kumarpersonal/Downloads/Inquiry-Assistant/venv/.env\"\n",
    "load_dotenv(dotenv_path=env_path)\n",
    "\n",
    "os.environ['LANGCHAIN_API_KEY'] = os.getenv('LANGCHAIN_API_KEY')\n",
    "os.environ['LANGCHAIN_TRACING_V2'] = 'true'\n",
    "os.environ['LANGCHAIN_PROJECT'] = 'inquiry-assistant'\n",
    "os.environ[\"HF_TOKEN\"]=os.getenv(\"HF_TOKEN\")\n",
    "\n",
    "pinecone_api_key = os.getenv(\"PINECONE_API_KEY\")\n",
    "pinecone_index_name = os.getenv(\"PINECONE_INDEX_NAME\")\n",
    "\n",
    "groq_api_key = os.getenv(\"GROQ_API_KEY\")"
   ]
  },
  {
   "cell_type": "code",
   "execution_count": 3,
   "id": "6070fccb",
   "metadata": {},
   "outputs": [],
   "source": [
    "corpus_path = \"/Users/kumarpersonal/Downloads/Inquiry-Assistant/Context/cleaned_text.txt\"\n",
    "with open(corpus_path, \"r\", encoding=\"utf-8\") as f:\n",
    "    cleaned_text = f.read()\n",
    "\n",
    "splitter = RecursiveCharacterTextSplitter(\n",
    "    chunk_size=500,\n",
    "    chunk_overlap=50,\n",
    "    separators=[\"\\n\\n\", \"\\n\", \".\", \" \"]\n",
    ")\n",
    "documents = splitter.create_documents([cleaned_text])\n",
    "\n",
    "for doc in documents:\n",
    "    doc.metadata[\"chunk_text\"] = doc.page_content"
   ]
  },
  {
   "cell_type": "code",
   "execution_count": null,
   "id": "0bcce77b",
   "metadata": {},
   "outputs": [],
   "source": [
    "class BGEEmbedding:\n",
    "    def __init__(self):\n",
    "        self.model = BGEM3FlagModel('BAAI/bge-base-en', use_fp16=False)\n",
    "\n",
    "    def embed_documents(self, texts):\n",
    "        texts = [\"passage: \" + t for t in texts]\n",
    "        output = self.model.encode(texts)\n",
    "        dense_vecs = output[\"dense_vecs\"]\n",
    "        dense_vecs = dense_vecs / np.linalg.norm(dense_vecs, axis=1, keepdims=True)\n",
    "        return dense_vecs.tolist() \n",
    "\n",
    "    def embed_query(self, text):\n",
    "        output = self.model.encode([\"query: \" + text])\n",
    "        dense_vec = output[\"dense_vecs\"][0]\n",
    "        dense_vec = dense_vec / np.linalg.norm(dense_vec)\n",
    "        return dense_vec.tolist()\n",
    "\n",
    "embed_model = BGEEmbedding()"
   ]
  },
  {
   "cell_type": "code",
   "execution_count": null,
   "id": "5c7df837",
   "metadata": {},
   "outputs": [],
   "source": [
    "hf_encoder = HuggingFaceEmbeddings(model_name=\"sentence-transformers/all-MiniLM-L6-v2\")\n",
    "\n",
    "embedding_model = HuggingFaceEmbeddings(\n",
    "    model_name=\"BAAI/bge-base-en-v1.5\",\n",
    "    encode_kwargs={\"normalize_embeddings\": True}\n",
    ")\n",
    "\n",
    "# Step 2: Initialize the semantic chunker\n",
    "# chunk_size = number of tokens per chunk (semantic-based)\n"
   ]
  },
  {
   "cell_type": "code",
   "execution_count": 6,
   "id": "6b02bb7c",
   "metadata": {},
   "outputs": [],
   "source": [
    "pc = Pinecone(api_key=pinecone_api_key)\n",
    "index = pc.Index(pinecone_index_name)"
   ]
  },
  {
   "cell_type": "code",
   "execution_count": 7,
   "id": "43b36cd2",
   "metadata": {},
   "outputs": [],
   "source": [
    "vectorstore = PineconeVectorStore(\n",
    "    index=index,\n",
    "    embedding=hf_encoder\n",
    ")\n",
    "\n",
    "retriever = vectorstore.as_retriever(search_type=\"similarity\", search_kwargs={\"k\": 5})\n",
    "\n",
    "# retriever = vectorstore.as_retriever(search_type=\"mmr\", search_kwargs={\"k\": 5, 'fetch_k': 50, 'lambda_mult': 0.5})"
   ]
  },
  {
   "cell_type": "code",
   "execution_count": 8,
   "id": "e0ce8170",
   "metadata": {},
   "outputs": [],
   "source": [
    "llm = ChatGroq(groq_api_key=groq_api_key, model=\"gemma2-9b-it\")"
   ]
  },
  {
   "cell_type": "code",
   "execution_count": 9,
   "id": "a3460f80",
   "metadata": {},
   "outputs": [],
   "source": [
    "chat_prompt = ChatPromptTemplate.from_messages([\n",
    "    (\"system\", \n",
    "     \"You are an intelligent assistant for Scaler Academy, trained on internal documents, placement records, program curricula, and student feedback. \"\n",
    "     \"You should answer questions only based on the context provided. \"\n",
    "     \"If the answer is not found in the context, reply with: \"\n",
    "     \"“I'm sorry, I couldn't find that information in the available documents.” \"\n",
    "     \"Be precise, concise, and maintain a professional and helpful tone.\"\n",
    "    ),\n",
    "    (\"human\", \n",
    "     \"Context:\\n{context}\\n\\nQuestion:\\n{question}\")\n",
    "])\n",
    "\n",
    "output_parser = StrOutputParser()"
   ]
  },
  {
   "cell_type": "code",
   "execution_count": 10,
   "id": "129352b7",
   "metadata": {},
   "outputs": [],
   "source": [
    "retriever_runnable = RunnableLambda(lambda x: retriever.invoke(x[\"question\"]))"
   ]
  },
  {
   "cell_type": "code",
   "execution_count": 11,
   "id": "b3f4aa35",
   "metadata": {},
   "outputs": [],
   "source": [
    "def format_inputs(inputs):\n",
    "    return {\n",
    "        \"context\": \"\\n\\n\".join([doc.page_content for doc in inputs[\"documents\"]]),\n",
    "        \"question\": inputs[\"question\"]\n",
    "    }"
   ]
  },
  {
   "cell_type": "code",
   "execution_count": 12,
   "id": "62ee4667",
   "metadata": {},
   "outputs": [],
   "source": [
    "rag_chain = (\n",
    "    RunnableMap({\n",
    "        \"documents\": retriever_runnable,\n",
    "        \"question\": lambda x: x[\"question\"]\n",
    "    })\n",
    "    | format_inputs | chat_prompt | llm | output_parser\n",
    ")"
   ]
  },
  {
   "cell_type": "code",
   "execution_count": 15,
   "id": "a6aa1960",
   "metadata": {},
   "outputs": [
    {
     "name": "stdout",
     "output_type": "stream",
     "text": [
      "\n",
      "Question: What is Scaler?\n",
      "\n",
      "Answer: Scaler Academy is a platform that offers tech-focused career programs. \n",
      "\n"
     ]
    }
   ],
   "source": [
    "query_text = input(\"Enter your question: \")\n",
    "print(\"\\nQuestion:\", query_text)\n",
    "\n",
    "response = rag_chain.invoke({\"question\": query_text})\n",
    "print(\"\\nAnswer:\", response)"
   ]
  },
  {
   "cell_type": "code",
   "execution_count": null,
   "id": "12395a81",
   "metadata": {},
   "outputs": [],
   "source": []
  }
 ],
 "metadata": {
  "kernelspec": {
   "display_name": "venv",
   "language": "python",
   "name": "python3"
  },
  "language_info": {
   "codemirror_mode": {
    "name": "ipython",
    "version": 3
   },
   "file_extension": ".py",
   "mimetype": "text/x-python",
   "name": "python",
   "nbconvert_exporter": "python",
   "pygments_lexer": "ipython3",
   "version": "3.9.6"
  }
 },
 "nbformat": 4,
 "nbformat_minor": 5
}
