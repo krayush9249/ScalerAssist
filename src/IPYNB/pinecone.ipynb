{
 "cells": [
  {
   "cell_type": "code",
   "execution_count": null,
   "id": "d9c9eeff",
   "metadata": {},
   "outputs": [],
   "source": [
    "import os\n",
    "import numpy as np\n",
    "from dotenv import load_dotenv\n",
    "\n",
    "from FlagEmbedding import BGEM3FlagModel\n",
    "\n",
    "from langchain.text_splitter import RecursiveCharacterTextSplitter"
   ]
  },
  {
   "cell_type": "code",
   "execution_count": 10,
   "id": "747a6369",
   "metadata": {},
   "outputs": [],
   "source": [
    "corpus_path = r\"C:\\Users\\piyus\\OneDrive\\Documents\\Github Repo\\Inquiry-Assistant\\Context\\clean_text.txt\"\n",
    "\n",
    "with open(corpus_path, \"r\", encoding=\"utf-8\") as f:\n",
    "    full_text = f.read()"
   ]
  },
  {
   "cell_type": "code",
   "execution_count": 11,
   "id": "12228da4",
   "metadata": {},
   "outputs": [],
   "source": [
    "env_path = r\"C:\\Users\\piyus\\OneDrive\\Documents\\Github Repo\\.env\"\n",
    "load_dotenv(dotenv_path=env_path)\n",
    "\n",
    "os.environ[\"GOOGLE_API_KEY\"] = os.getenv('GOOGLE_API_KEY')\n",
    "\n",
    "os.environ[\"PINECONE_API_KEY\"] = os.getenv(\"PINECONE_API_KEY\")\n",
    "\n",
    "os.environ[\"HUGGINGFACE_HUB_TOKEN\"] = os.getenv('HUGGINGFACE_HUB_TOKEN')\n",
    "\n",
    "os.environ['LANGCHAIN_API_KEY'] = os.getenv('LANGCHAIN_API_KEY')\n",
    "os.environ['LANGCHAIN_TRACING_V2'] = 'true'\n",
    "os.environ['LANGCHAIN_PROJECT'] = 'inquiry-assistant'\n",
    "\n",
    "os.environ['GROQ_API_KEY'] = os.getenv('GROQ_API_KEY')\n",
    "groq_api_key = os.getenv('GROQ_API_KEY')  "
   ]
  },
  {
   "cell_type": "code",
   "execution_count": 12,
   "id": "68d64d36",
   "metadata": {},
   "outputs": [],
   "source": [
    "splitter = RecursiveCharacterTextSplitter(\n",
    "    chunk_size=500,\n",
    "    chunk_overlap=50,\n",
    "    separators=[\"\\n\\n\", \"\\n\", \".\", \" \", \"--- --- \"]\n",
    ")\n",
    "\n",
    "documents = splitter.create_documents([full_text])"
   ]
  },
  {
   "cell_type": "code",
   "execution_count": null,
   "id": "3f9a4aa6",
   "metadata": {},
   "outputs": [
    {
     "name": "stderr",
     "output_type": "stream",
     "text": [
      "Fetching 19 files: 100%|██████████| 19/19 [00:00<?, ?it/s]\n"
     ]
    }
   ],
   "source": [
    "class BGEEmbedding:\n",
    "    def __init__(self):\n",
    "        self.model = BGEM3FlagModel('BAAI/bge-base-en', use_fp16=False)\n",
    "\n",
    "    def embed_documents(self, texts):\n",
    "        texts = [\"passage: \" + t for t in texts]\n",
    "        output = self.model.encode(texts)\n",
    "        dense_vecs = output[\"dense_vecs\"]\n",
    "        dense_vecs = dense_vecs / np.linalg.norm(dense_vecs, axis=1, keepdims=True)\n",
    "        return dense_vecs.tolist() \n",
    "    \n",
    "\n",
    "    def embed_query(self, text):\n",
    "        output = self.model.encode([\"query: \" + text])\n",
    "        dense_vec = output[\"dense_vecs\"][0]\n",
    "        dense_vec = dense_vec / np.linalg.norm(dense_vec)\n",
    "        return dense_vec.tolist()\n",
    "       \n",
    "\n",
    "embedding_function = BGEEmbedding()\n"
   ]
  },
  {
   "cell_type": "code",
   "execution_count": 15,
   "id": "35a867b8",
   "metadata": {},
   "outputs": [],
   "source": [
    "from pinecone import Pinecone\n",
    "\n",
    "pc = Pinecone(api_key=\"pcsk_5mHj66_Fdukwnj1rJeiEr1nq5VTDuURJyLGZ95U9SCnmuecj4RN7V2qY7B6wvyhtnWcPYH\")\n",
    "index = pc.Index('rag-application')"
   ]
  },
  {
   "cell_type": "code",
   "execution_count": 16,
   "id": "68ffe78c",
   "metadata": {},
   "outputs": [
    {
     "name": "stderr",
     "output_type": "stream",
     "text": [
      "pre tokenize: 100%|██████████| 3/3 [00:00<00:00, 15.23it/s]\n",
      "You're using a BertTokenizerFast tokenizer. Please note that with a fast tokenizer, using the `__call__` method is faster than using a method to encode the text followed by a call to the `pad` method to get a padded encoding.\n",
      "Inference Embeddings: 100%|██████████| 3/3 [01:29<00:00, 29.96s/it]\n"
     ]
    },
    {
     "data": {
      "text/plain": [
       "{'upserted_count': 610}"
      ]
     },
     "execution_count": 16,
     "metadata": {},
     "output_type": "execute_result"
    }
   ],
   "source": [
    "texts = [doc.page_content for doc in documents]\n",
    "vectors = embedding_function.embed_documents(texts)\n",
    "upsert_data = [\n",
    "    {\n",
    "        \"id\": f\"doc-{i}\",\n",
    "        \"values\": vectors[i],\n",
    "        \"metadata\": {\"text\": texts[i]}  # or use doc.metadata if needed\n",
    "    }\n",
    "    for i in range(len(texts))\n",
    "]\n",
    "\n",
    "index.upsert(vectors=upsert_data)\n"
   ]
  },
  {
   "cell_type": "code",
   "execution_count": 24,
   "id": "7cf456f9",
   "metadata": {},
   "outputs": [],
   "source": [
    "from langchain_core.runnables import RunnableLambda, RunnableMap\n",
    "from langchain_core.output_parsers import StrOutputParser\n",
    "from langchain_core.prompts import ChatPromptTemplate\n",
    "from langchain_groq import ChatGroq\n",
    "from langchain_core.documents import Document\n",
    "\n",
    "# Step 3: Define a simple retriever using Pinecone\n",
    "def pinecone_retriever(question, k=5):\n",
    "    query_vector = embedding_function.embed_query(question)\n",
    "    results = index.query(vector=query_vector, top_k=k, include_metadata=True)\n",
    "    return [\n",
    "        Document(page_content=match['metadata']['text']) \n",
    "        for match in results['matches']\n",
    "    ]\n",
    "\n",
    "retriever_runnable = RunnableLambda(lambda x: pinecone_retriever(x[\"question\"]))\n"
   ]
  },
  {
   "cell_type": "code",
   "execution_count": 25,
   "id": "4fe3af3e",
   "metadata": {},
   "outputs": [],
   "source": [
    "# Step 4: Prompt Template\n",
    "chat_prompt = ChatPromptTemplate.from_messages([\n",
    "    (\"system\", \n",
    "     \"You are an intelligent assistant for Scaler Academy, trained on internal documents, placement records, program curricula, and student feedback. \"\n",
    "     \"You should answer questions only based on the context provided. \"\n",
    "     \"If the answer is not found in the context, reply with: \"\n",
    "     \"“I'm sorry, I couldn't find that information in the available documents.” \"\n",
    "     \"Be precise, concise, and maintain a professional and helpful tone.\"\n",
    "    ),\n",
    "    (\"human\", \n",
    "     \"Context:\\n{context}\\n\\nQuestion:\\n{question}\")\n",
    "])"
   ]
  },
  {
   "cell_type": "code",
   "execution_count": 26,
   "id": "bb127d3d",
   "metadata": {},
   "outputs": [],
   "source": [
    "# Step 5: Format context\n",
    "def format_inputs(inputs):\n",
    "    return {\n",
    "        \"context\": \"\\n\\n\".join([doc.page_content for doc in inputs[\"documents\"]]),\n",
    "        \"question\": inputs[\"question\"]\n",
    "    }\n"
   ]
  },
  {
   "cell_type": "code",
   "execution_count": 27,
   "id": "62e315e3",
   "metadata": {},
   "outputs": [],
   "source": [
    "# Step 6: LLM and Output Parser\n",
    "llm = ChatGroq(groq_api_key=groq_api_key, model=\"gemma2-9b-it\")\n",
    "output_parser = StrOutputParser()\n"
   ]
  },
  {
   "cell_type": "code",
   "execution_count": 28,
   "id": "c4293bc4",
   "metadata": {},
   "outputs": [],
   "source": [
    "# Step 7: Build the RAG Chain\n",
    "rag_chain = (\n",
    "    RunnableMap({\n",
    "        \"documents\": retriever_runnable,\n",
    "        \"question\": lambda x: x[\"question\"]\n",
    "    })\n",
    "    | format_inputs \n",
    "    | chat_prompt \n",
    "    | llm \n",
    "    | output_parser\n",
    ")"
   ]
  },
  {
   "cell_type": "code",
   "execution_count": 34,
   "id": "16a9c4b1",
   "metadata": {},
   "outputs": [
    {
     "name": "stdout",
     "output_type": "stream",
     "text": [
      "\n",
      "Question: why should i choose scaler\n",
      "\n",
      "Answer: Scaler is right for you because:\n",
      "\n",
      "* **It's designed for learning:** Scaler provides a structured learning environment with intuitive classes and thorough explanations. \n",
      "* **It has a stellar track record:** Scaler has helped 15k+ learners transform their careers since 2019.\n",
      "* **It offers placement assistance:** Scaler provides support to help learners secure jobs in the industry.\n",
      "* **You'll be part of a community:** You'll learn alongside others who are on the same path.\n",
      "* **You'll have access to top 1% industry mentors:** Scaler connects learners with experienced mentors who can guide their journey. \n",
      "\n",
      "\n",
      "\n"
     ]
    }
   ],
   "source": [
    "# Step 8: Use the RAG Chain\n",
    "query = input(\"Enter your question: \")\n",
    "print(\"\\nQuestion:\", query)\n",
    "\n",
    "response = rag_chain.invoke({\"question\": query})\n",
    "print(\"\\nAnswer:\", response)\n"
   ]
  },
  {
   "cell_type": "code",
   "execution_count": null,
   "id": "66344d8f",
   "metadata": {},
   "outputs": [],
   "source": []
  },
  {
   "cell_type": "code",
   "execution_count": null,
   "id": "a3bdfecb",
   "metadata": {},
   "outputs": [],
   "source": []
  }
 ],
 "metadata": {
  "kernelspec": {
   "display_name": "venv",
   "language": "python",
   "name": "python3"
  },
  "language_info": {
   "codemirror_mode": {
    "name": "ipython",
    "version": 3
   },
   "file_extension": ".py",
   "mimetype": "text/x-python",
   "name": "python",
   "nbconvert_exporter": "python",
   "pygments_lexer": "ipython3",
   "version": "3.11.13"
  }
 },
 "nbformat": 4,
 "nbformat_minor": 5
}
